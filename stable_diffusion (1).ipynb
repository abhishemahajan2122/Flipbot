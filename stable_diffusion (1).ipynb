{
  "nbformat": 4,
  "nbformat_minor": 0,
  "metadata": {
    "colab": {
      "private_outputs": true,
      "provenance": [],
      "gpuType": "T4",
      "toc_visible": true
    },
    "kernelspec": {
      "name": "python3",
      "display_name": "Python 3"
    },
    "language_info": {
      "name": "python"
    },
    "accelerator": "GPU"
  },
  "cells": [
    {
      "cell_type": "code",
      "execution_count": null,
      "metadata": {
        "id": "QuFz5uGi-h6G"
      },
      "outputs": [],
      "source": [
        "%pip install --quiet --upgrade diffusers transformers accelerate mediapy triton scipy ftfy spacy==3.4.4"
      ]
    },
    {
      "cell_type": "code",
      "source": [
        "# The xformers package is mandatory to be able to create several 768x768 images.\n",
        "%pip install -q xformers==0.0.16rc425"
      ],
      "metadata": {
        "id": "oP_dBQpSCIkY"
      },
      "execution_count": null,
      "outputs": []
    },
    {
      "cell_type": "code",
      "source": [
        "# model_id = \"stabilityai/stable-diffusion-2-1-base\"\n",
        "model_id = \"stabilityai/stable-diffusion-2-1\"\n",
        "# model_id = \"dreamlike-art/dreamlike-photoreal-2.0\""
      ],
      "metadata": {
        "id": "GR4vF2bw-sHR"
      },
      "execution_count": null,
      "outputs": []
    },
    {
      "cell_type": "code",
      "source": [
        "from diffusers import PNDMScheduler, DDIMScheduler, LMSDiscreteScheduler, EulerDiscreteScheduler, DPMSolverMultistepScheduler\n",
        "\n",
        "scheduler = None\n",
        "# scheduler = PNDMScheduler.from_pretrained(model_id, subfolder=\"scheduler\")\n",
        "# scheduler = DDIMScheduler.from_pretrained(model_id, subfolder=\"scheduler\")\n",
        "# scheduler = LMSDiscreteScheduler.from_pretrained(model_id, subfolder=\"scheduler\")\n",
        "# scheduler = EulerDiscreteScheduler.from_pretrained(model_id, subfolder=\"scheduler\")\n",
        "# scheduler = DPMSolverMultistepScheduler.from_pretrained(model_id, subfolder=\"scheduler\")"
      ],
      "metadata": {
        "id": "vF9Q0xKX8gLR"
      },
      "execution_count": null,
      "outputs": []
    },
    {
      "cell_type": "code",
      "source": [
        "import mediapy as media\n",
        "import torch\n",
        "from diffusers import StableDiffusionPipeline\n",
        "import random\n",
        "\n",
        "device = \"cuda\"\n",
        "\n",
        "if model_id.startswith(\"stabilityai/\"):\n",
        "  model_revision = \"fp16\"\n",
        "else:\n",
        "  model_revision = None\n",
        "\n",
        "if scheduler is None:\n",
        "  pipe = StableDiffusionPipeline.from_pretrained(\n",
        "      model_id,\n",
        "      torch_dtype=torch.float16,\n",
        "      revision=model_revision,\n",
        "      )\n",
        "else:\n",
        "  pipe = StableDiffusionPipeline.from_pretrained(\n",
        "      model_id,\n",
        "      scheduler=scheduler,\n",
        "      torch_dtype=torch.float16,\n",
        "      revision=model_revision,\n",
        "      )\n",
        "\n",
        "pipe = pipe.to(device)\n",
        "pipe.enable_xformers_memory_efficient_attention()\n",
        "\n",
        "if model_id.endswith('-base'):\n",
        "  image_length = 512\n",
        "else:\n",
        "  image_length = 768\n"
      ],
      "metadata": {
        "id": "bG2hkmSEvByV"
      },
      "execution_count": null,
      "outputs": []
    },
    {
      "cell_type": "code",
      "source": [
        "from transformers import pipeline\n",
        "captioner = pipeline(\"image-to-text\",model=\"Salesforce/blip-image-captioning-base\")"
      ],
      "metadata": {
        "id": "in23CfLs79jl"
      },
      "execution_count": null,
      "outputs": []
    },
    {
      "cell_type": "code",
      "source": [
        "prompt = \"\"\n",
        "torch.cuda.empty_cache()\n",
        "remove_safety = False\n",
        "num_images = 2\n",
        "seed = random.randint(0, 2147483647)\n",
        "\n",
        "if remove_safety:\n",
        "  negative_prompt = None\n",
        "  pipe.safety_checker = None\n",
        "else:\n",
        "  negative_prompt=\"\"\n",
        "  # negative_prompt = \"nude, naked\"\n",
        "\n",
        "images = pipe(\n",
        "    prompt,\n",
        "    height = image_length,\n",
        "    width = image_length,\n",
        "    num_inference_steps = 25,\n",
        "    guidance_scale = 9,\n",
        "    num_images_per_prompt = num_images,\n",
        "    negative_prompt = negative_prompt,\n",
        "    generator = torch.Generator(\"cuda\").manual_seed(seed)\n",
        "    ).images\n",
        "\n",
        "media.show_images(images)\n",
        "display(f\"Seed: {seed}\")\n",
        "images[0].save(\"output.jpg\")"
      ],
      "metadata": {
        "id": "AUc4QJfE-uR9"
      },
      "execution_count": null,
      "outputs": []
    },
    {
      "cell_type": "code",
      "source": [
        "\n",
        "prompt = \"Men in Black\"\n",
        "torch.cuda.empty_cache()\n",
        "remove_safety = False\n",
        "num_images = 10\n",
        "seed = 85290\n",
        "\n",
        "if remove_safety:\n",
        "  negative_prompt = None\n",
        "  pipe.safety_checker = None\n",
        "else:\n",
        "  negative_prompt=\"\"\n",
        "  # negative_prompt = \"nude, naked\"\n",
        "\n",
        "images = pipe(\n",
        "    prompt,\n",
        "    height = image_length,\n",
        "    width = image_length,\n",
        "    num_inference_steps = 25,\n",
        "    guidance_scale = 9,\n",
        "    num_images_per_prompt = num_images,\n",
        "    negative_prompt = negative_prompt,\n",
        "    generator = torch.Generator(\"cuda\").manual_seed(seed)\n",
        "    ).images\n",
        "\n",
        "media.show_images(images)\n",
        "display(f\"Seed: {seed}\")\n",
        "images[0].save(\"output.jpg\")"
      ],
      "metadata": {
        "id": "LKhwimmUE4yU"
      },
      "execution_count": null,
      "outputs": []
    },
    {
      "cell_type": "code",
      "source": [
        "prompt = \"men in black\"\n",
        "torch.cuda.empty_cache()\n",
        "remove_safety = False\n",
        "num_images = 1\n",
        "seed = 85290\n",
        "\n",
        "if remove_safety:\n",
        "  negative_prompt = None\n",
        "  pipe.safety_checker = None\n",
        "else:\n",
        "  negative_prompt=\"\"\n",
        "  # negative_prompt = \"nude, naked\"\n",
        "\n",
        "images = pipe(\n",
        "    prompt,\n",
        "    height = image_length,\n",
        "    width = image_length,\n",
        "    num_inference_steps = 25,\n",
        "    guidance_scale = 9,\n",
        "    num_images_per_prompt = num_images,\n",
        "    negative_prompt = negative_prompt,\n",
        "    generator = torch.Generator(\"cuda\").manual_seed(seed)\n",
        "    ).images\n",
        "\n",
        "media.show_images(images)\n",
        "display(f\"Seed: {seed}\")\n",
        "images[0].save(\"output.jpg\")"
      ],
      "metadata": {
        "id": "bmziFvoceVBM"
      },
      "execution_count": null,
      "outputs": []
    },
    {
      "cell_type": "code",
      "source": [],
      "metadata": {
        "id": "24VczISygLU1"
      },
      "execution_count": null,
      "outputs": []
    },
    {
      "cell_type": "code",
      "source": [],
      "metadata": {
        "id": "IWRbIzQsgLYd"
      },
      "execution_count": null,
      "outputs": []
    },
    {
      "cell_type": "code",
      "source": [],
      "metadata": {
        "id": "ayeSCEsfgLcC"
      },
      "execution_count": null,
      "outputs": []
    },
    {
      "cell_type": "code",
      "source": [],
      "metadata": {
        "id": "Bj4CA24SgLfj"
      },
      "execution_count": null,
      "outputs": []
    },
    {
      "cell_type": "code",
      "source": [],
      "metadata": {
        "id": "pJZGOjHrgLnS"
      },
      "execution_count": null,
      "outputs": []
    },
    {
      "cell_type": "code",
      "source": [],
      "metadata": {
        "id": "qbjWC5cCgLqq"
      },
      "execution_count": null,
      "outputs": []
    },
    {
      "cell_type": "code",
      "source": [],
      "metadata": {
        "id": "O3Z3dzGogLum"
      },
      "execution_count": null,
      "outputs": []
    },
    {
      "cell_type": "code",
      "source": [],
      "metadata": {
        "id": "RrZplmlBgLyD"
      },
      "execution_count": null,
      "outputs": []
    },
    {
      "cell_type": "code",
      "source": [
        "captioner(\"/content/Sladkaya_parochka.jpg\")"
      ],
      "metadata": {
        "id": "-Q9pF8BJAVsm"
      },
      "execution_count": null,
      "outputs": []
    }
  ]
}